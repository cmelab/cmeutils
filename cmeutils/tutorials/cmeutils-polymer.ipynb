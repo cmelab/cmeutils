{
 "cells": [
  {
   "cell_type": "code",
   "execution_count": 1,
   "id": "6834e21c",
   "metadata": {},
   "outputs": [],
   "source": [
    "import cmeutils\n",
    "import cmeutils.polymers as polymer\n",
    "from cmeutils.gsd_utils import snap_molecule_cluster"
   ]
  },
  {
   "cell_type": "markdown",
   "id": "49d2de37",
   "metadata": {},
   "source": [
    "## Example\n",
    "\n",
    "This example is for a .gsd file that contains 3 molecuels, each one with 10 monomers\n",
    "The molecules are united-atom PEEK, so each monomer contains 22 atoms"
   ]
  },
  {
   "cell_type": "code",
   "execution_count": 2,
   "id": "297b1d63",
   "metadata": {},
   "outputs": [
    {
     "name": "stderr",
     "output_type": "stream",
     "text": [
      "/home/chris/miniconda3/envs/cmeutils/lib/python3.7/site-packages/ipykernel/ipkernel.py:287: DeprecationWarning: `should_run_async` will not call `transform_cell` automatically in the future. Please pass the result to `transformed_cell` argument and any exception that happen during thetransform in `preprocessing_exc_tuple` in IPython 7.17 and above.\n",
      "  and should_run_async(code)\n"
     ]
    }
   ],
   "source": [
    "gsdfile = \"3_10mers.gsd\"\n",
    "peek_system = polymer.System(gsd_file=gsdfile, atoms_per_monomer=22)"
   ]
  },
  {
   "cell_type": "code",
   "execution_count": 5,
   "id": "efdb4c3e",
   "metadata": {},
   "outputs": [
    {
     "name": "stderr",
     "output_type": "stream",
     "text": [
      "/home/chris/miniconda3/envs/cmeutils/lib/python3.7/site-packages/ipykernel/ipkernel.py:287: DeprecationWarning: `should_run_async` will not call `transform_cell` automatically in the future. Please pass the result to `transformed_cell` argument and any exception that happen during thetransform in `preprocessing_exc_tuple` in IPython 7.17 and above.\n",
      "  and should_run_async(code)\n"
     ]
    },
    {
     "data": {
      "text/plain": [
       "[<cmeutils.polymers.Molecule at 0x7f4ff105b310>,\n",
       " <cmeutils.polymers.Molecule at 0x7f4ff105b210>,\n",
       " <cmeutils.polymers.Molecule at 0x7f4ff105b1d0>]"
      ]
     },
     "execution_count": 5,
     "metadata": {},
     "output_type": "execute_result"
    }
   ],
   "source": [
    "peek_system.molecules"
   ]
  },
  {
   "cell_type": "code",
   "execution_count": 4,
   "id": "031f1b69",
   "metadata": {},
   "outputs": [
    {
     "name": "stdout",
     "output_type": "stream",
     "text": [
      "[-35.71385574 -35.15084457 -28.71744537]\n",
      "[ 35.79333496   0.57994461 -32.06600189]\n",
      "[-35.72400284 -26.48761559 -10.47525024]\n"
     ]
    },
    {
     "name": "stderr",
     "output_type": "stream",
     "text": [
      "/home/chris/miniconda3/envs/cmeutils/lib/python3.7/site-packages/ipykernel/ipkernel.py:287: DeprecationWarning: `should_run_async` will not call `transform_cell` automatically in the future. Please pass the result to `transformed_cell` argument and any exception that happen during thetransform in `preprocessing_exc_tuple` in IPython 7.17 and above.\n",
      "  and should_run_async(code)\n"
     ]
    }
   ],
   "source": [
    "for mol in peek_system.molecules:\n",
    "    print(mol.center_of_mass)"
   ]
  },
  {
   "cell_type": "code",
   "execution_count": 7,
   "id": "7678eb94",
   "metadata": {},
   "outputs": [
    {
     "name": "stderr",
     "output_type": "stream",
     "text": [
      "/home/chris/miniconda3/envs/cmeutils/lib/python3.7/site-packages/ipykernel/ipkernel.py:287: DeprecationWarning: `should_run_async` will not call `transform_cell` automatically in the future. Please pass the result to `transformed_cell` argument and any exception that happen during thetransform in `preprocessing_exc_tuple` in IPython 7.17 and above.\n",
      "  and should_run_async(code)\n"
     ]
    },
    {
     "data": {
      "text/plain": [
       "[<cmeutils.polymers.Monomer at 0x7f4ff105b250>,\n",
       " <cmeutils.polymers.Monomer at 0x7f4ff105b050>,\n",
       " <cmeutils.polymers.Monomer at 0x7f4ff105b090>,\n",
       " <cmeutils.polymers.Monomer at 0x7f4ff105be90>,\n",
       " <cmeutils.polymers.Monomer at 0x7f4ff105bed0>,\n",
       " <cmeutils.polymers.Monomer at 0x7f4ff105bf50>,\n",
       " <cmeutils.polymers.Monomer at 0x7f4ff105bf90>,\n",
       " <cmeutils.polymers.Monomer at 0x7f4ff105bfd0>,\n",
       " <cmeutils.polymers.Monomer at 0x7f4ff1066050>,\n",
       " <cmeutils.polymers.Monomer at 0x7f4ff105bf10>]"
      ]
     },
     "execution_count": 7,
     "metadata": {},
     "output_type": "execute_result"
    }
   ],
   "source": [
    "mol_1 = peek_system.molecules[0]\n",
    "mol_1.monomers"
   ]
  },
  {
   "cell_type": "code",
   "execution_count": 8,
   "id": "4bc226ba",
   "metadata": {},
   "outputs": [
    {
     "name": "stdout",
     "output_type": "stream",
     "text": [
      "[-35.57025146 -36.42874527 -15.91887856]\n",
      "[-35.89908218  35.08745575 -19.42394066]\n",
      "[-35.80141068  34.84962463 -23.63430214]\n",
      "[-35.84141922  34.34966278 -27.80606079]\n",
      "[-35.78558731  33.56804657 -31.55745125]\n",
      "[-35.83119202 -37.00401306 -33.86655426]\n",
      "[-35.72114182 -33.79898834 -36.84399414]\n",
      "[-35.73588562 -29.75857925 -35.97425842]\n",
      "[-35.54290771 -28.27431297 -32.05659103]\n",
      "[-35.40942001 -27.08843613 -27.9095192 ]\n"
     ]
    },
    {
     "name": "stderr",
     "output_type": "stream",
     "text": [
      "/home/chris/miniconda3/envs/cmeutils/lib/python3.7/site-packages/ipykernel/ipkernel.py:287: DeprecationWarning: `should_run_async` will not call `transform_cell` automatically in the future. Please pass the result to `transformed_cell` argument and any exception that happen during thetransform in `preprocessing_exc_tuple` in IPython 7.17 and above.\n",
      "  and should_run_async(code)\n"
     ]
    }
   ],
   "source": [
    "for mon in mol_1.monomers:\n",
    "    print(mon.center_of_mass)"
   ]
  }
 ],
 "metadata": {
  "kernelspec": {
   "display_name": "Python 3",
   "language": "python",
   "name": "python3"
  },
  "language_info": {
   "codemirror_mode": {
    "name": "ipython",
    "version": 3
   },
   "file_extension": ".py",
   "mimetype": "text/x-python",
   "name": "python",
   "nbconvert_exporter": "python",
   "pygments_lexer": "ipython3",
   "version": "3.7.10"
  }
 },
 "nbformat": 4,
 "nbformat_minor": 5
}
