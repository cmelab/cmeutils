{
 "cells": [
  {
   "cell_type": "code",
   "execution_count": 1,
   "id": "6834e21c",
   "metadata": {},
   "outputs": [],
   "source": [
    "import cmeutils\n",
    "import cmeutils.polymers as polymer\n",
    "from cmeutils.gsd_utils import snap_molecule_cluster\n",
    "import warnings\n",
    "warnings.filterwarnings(\"ignore\")"
   ]
  },
  {
   "cell_type": "markdown",
   "id": "49d2de37",
   "metadata": {},
   "source": [
    "## Example\n",
    "\n",
    "This example is for a .gsd file that contains 10 molecuels, each one with 5 monomers\n",
    "The molecules are united-atom PEEK, so each monomer contains 22 atoms"
   ]
  },
  {
   "cell_type": "code",
   "execution_count": 3,
   "id": "297b1d63",
   "metadata": {},
   "outputs": [],
   "source": [
    "gsdfile = \"10_5mers.gsd\"\n",
    "peek_system = polymer.System(gsd_file=gsdfile, atoms_per_monomer=22)"
   ]
  },
  {
   "cell_type": "code",
   "execution_count": 4,
   "id": "efdb4c3e",
   "metadata": {},
   "outputs": [
    {
     "data": {
      "text/plain": [
       "[<cmeutils.polymers.Molecule at 0x7f3732691650>,\n",
       " <cmeutils.polymers.Molecule at 0x7f3732691710>,\n",
       " <cmeutils.polymers.Molecule at 0x7f3732691790>,\n",
       " <cmeutils.polymers.Molecule at 0x7f3732691690>,\n",
       " <cmeutils.polymers.Molecule at 0x7f37326917d0>,\n",
       " <cmeutils.polymers.Molecule at 0x7f3732691b50>,\n",
       " <cmeutils.polymers.Molecule at 0x7f3732691ed0>,\n",
       " <cmeutils.polymers.Molecule at 0x7f3732691d10>,\n",
       " <cmeutils.polymers.Molecule at 0x7f37326980d0>,\n",
       " <cmeutils.polymers.Molecule at 0x7f3732691990>]"
      ]
     },
     "execution_count": 4,
     "metadata": {},
     "output_type": "execute_result"
    }
   ],
   "source": [
    "peek_system.molecules"
   ]
  },
  {
   "cell_type": "code",
   "execution_count": 5,
   "id": "031f1b69",
   "metadata": {},
   "outputs": [
    {
     "name": "stdout",
     "output_type": "stream",
     "text": [
      "[-3.04735327 -2.03552437  2.30962563]\n",
      "[ 1.36522579  0.19814444 -0.52908587]\n",
      "[ 0.81221104  3.43623114 -0.77604556]\n",
      "[-1.48174405 -2.62783909  3.68505859]\n",
      "[ 2.45750618 -3.64387274 -1.44242215]\n",
      "[-2.02809405  1.09350109 -1.44837642]\n",
      "[-0.52549791 -0.0182991  -4.10073948]\n",
      "[ 2.96870041  4.28671551 -1.30717111]\n",
      "[-2.58645964  1.66822195  1.23474741]\n",
      "[-1.21767306 -4.13469362  2.68633604]\n"
     ]
    }
   ],
   "source": [
    "for mol in peek_system.molecules:\n",
    "    print(mol.center_of_mass)"
   ]
  },
  {
   "cell_type": "code",
   "execution_count": 6,
   "id": "7678eb94",
   "metadata": {},
   "outputs": [
    {
     "data": {
      "text/plain": [
       "[<cmeutils.polymers.Monomer at 0x7f3732691810>,\n",
       " <cmeutils.polymers.Monomer at 0x7f3732691850>,\n",
       " <cmeutils.polymers.Monomer at 0x7f3732691890>,\n",
       " <cmeutils.polymers.Monomer at 0x7f37326918d0>,\n",
       " <cmeutils.polymers.Monomer at 0x7f3732691910>]"
      ]
     },
     "execution_count": 6,
     "metadata": {},
     "output_type": "execute_result"
    }
   ],
   "source": [
    "mol_1 = peek_system.molecules[0]\n",
    "mol_1.monomers"
   ]
  },
  {
   "cell_type": "code",
   "execution_count": 7,
   "id": "4bc226ba",
   "metadata": {},
   "outputs": [
    {
     "name": "stdout",
     "output_type": "stream",
     "text": [
      "[-2.91324186 -1.50840712 -4.33118916]\n",
      "[-1.33682179  4.27690887 -0.59107733]\n",
      "[ 2.06846476 -1.47815919  1.44003963]\n",
      "[3.03498268 0.07762909 3.06386232]\n",
      "[-2.19906116 -3.38951492 -4.09632683]\n"
     ]
    }
   ],
   "source": [
    "for mon in mol_1.monomers:\n",
    "    print(mon.center_of_mass)"
   ]
  },
  {
   "cell_type": "markdown",
   "id": "dd56ec62",
   "metadata": {},
   "source": [
    "## Coarse-graining\n",
    "\n",
    "We can use the center of mass methods and Molecule and Monomer classes to generate a coarse-grained representation of the UA system:\n",
    "\n",
    "**NOTE:**\n",
    "This requires that mbuild and py3Dmol are installed\n",
    "\n",
    "`conda install -c conda-forge mbuild py3Dmol`"
   ]
  },
  {
   "cell_type": "code",
   "execution_count": 8,
   "id": "8b28bdd4",
   "metadata": {},
   "outputs": [],
   "source": [
    "import mbuild as mb"
   ]
  },
  {
   "cell_type": "code",
   "execution_count": null,
   "id": "64456bf0",
   "metadata": {},
   "outputs": [],
   "source": [
    "cg_system = mb.Compound()\n",
    "for mol_idx, molecule in enumerate(peek_system.molecules):\n",
    "    molecule_comp = mb.Compound(name=f\"mol{mol_idx}\")\n",
    "    last_bead = None\n",
    "    for mon_idx, monomer in enumerate(molecule.monomers):\n",
    "        bead_name = f\"mol{mol_idx}_mon{mon_idx}\"\n",
    "        pos = monomer.center_of_mass\n",
    "        bead = mb.Compound(name=bead_name, pos=pos)\n",
    "        molecule_comp.add(bead)\n",
    "        if 0 < mon_idx < len(molecule.monomers):\n",
    "            molecule_comp.add_bond((bead, last_bead))\n",
    "        last_bead = bead\n",
    "    cg_system.add(molecule_comp)\n",
    "    \n",
    "cg_system.visualize()"
   ]
  }
 ],
 "metadata": {
  "kernelspec": {
   "display_name": "Python 3",
   "language": "python",
   "name": "python3"
  },
  "language_info": {
   "codemirror_mode": {
    "name": "ipython",
    "version": 3
   },
   "file_extension": ".py",
   "mimetype": "text/x-python",
   "name": "python",
   "nbconvert_exporter": "python",
   "pygments_lexer": "ipython3",
   "version": "3.7.10"
  }
 },
 "nbformat": 4,
 "nbformat_minor": 5
}
