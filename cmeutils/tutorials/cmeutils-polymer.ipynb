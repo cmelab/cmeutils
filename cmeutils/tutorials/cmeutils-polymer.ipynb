{
 "cells": [
  {
   "cell_type": "code",
   "execution_count": null,
   "id": "6834e21c",
   "metadata": {},
   "outputs": [],
   "source": [
    "import cmeutils\n",
    "from cmeutils import writers\n",
    "import cmeutils.polymers as polymer\n",
    "from cmeutils.gsd_utils import snap_molecule_cluster\n",
    "import warnings\n",
    "warnings.filterwarnings(\"ignore\")\n",
    "import time\n",
    "import matplotlib.pyplot as plt\n",
    "import numpy as np\n",
    "from scipy.optimize import curve_fit\n",
    "import mbuild as mb\n",
    "import gsd\n",
    "import gsd.hoomd"
   ]
  },
  {
   "cell_type": "markdown",
   "id": "49d2de37",
   "metadata": {},
   "source": [
    "## Example\n",
    "\n",
    "This example is for a .gsd file that contains 10 molecuels, each one with 5 monomers\n",
    "The molecules are united-atom PEEK, so each monomer contains 22 atoms"
   ]
  },
  {
   "cell_type": "code",
   "execution_count": null,
   "id": "297b1d63",
   "metadata": {
    "scrolled": true
   },
   "outputs": [],
   "source": [
    "gsdfile = \"100-20mers.gsd\"\n",
    "peek_system = polymer.System(gsd_file=gsdfile, gsd_frame=0, atoms_per_monomer=22)"
   ]
  },
  {
   "cell_type": "markdown",
   "id": "50b68776",
   "metadata": {},
   "source": [
    "# Hierarchial structures\n",
    "\n",
    "\n"
   ]
  },
  {
   "cell_type": "code",
   "execution_count": null,
   "id": "05a73b60",
   "metadata": {},
   "outputs": [],
   "source": [
    "print(f\"{peek_system.n_molecules} Molecules\")\n",
    "print(f\"{peek_system.n_monomers} Monomers\")\n",
    "print(f\"{peek_system.n_atoms} Atoms\")\n",
    "print()\n",
    "print(len((peek_system.molecules)))\n",
    "print(peek_system.molecules[0:5])"
   ]
  },
  {
   "cell_type": "markdown",
   "id": "1130f4dd",
   "metadata": {},
   "source": [
    "### Looking at just 1 of the molecule objects from peek_system.molecules"
   ]
  },
  {
   "cell_type": "code",
   "execution_count": null,
   "id": "8c434494",
   "metadata": {},
   "outputs": [],
   "source": [
    "molecule_1 = peek_system.molecules[0]\n",
    "print(f\"{molecule_1.n_monomers} Monomers\")\n",
    "print(f\"{molecule_1.n_atoms} Atoms\")\n",
    "print()\n",
    "print(len(molecule_1.monomers))\n",
    "print(molecule_1.monomers[0:5])"
   ]
  },
  {
   "cell_type": "markdown",
   "id": "708d286a",
   "metadata": {},
   "source": [
    "### Looking at just 1 of the monomer objects from molecule_1"
   ]
  },
  {
   "cell_type": "code",
   "execution_count": null,
   "id": "9fe9d728",
   "metadata": {},
   "outputs": [],
   "source": [
    "monomer_1 = molecule_1.monomers[0]\n",
    "print(f\"{monomer_1.n_atoms} Atoms\")"
   ]
  },
  {
   "cell_type": "markdown",
   "id": "fff25c77",
   "metadata": {},
   "source": [
    "## Assigning names/types to the monomers\n",
    "\n",
    "Keeping track of the different types of monomers in the system can be important for calculating pair-specific properties like RDFs.  When the molecules and monomers are generated, no types or names are assigned to the monomers.\n",
    "\n",
    "Assigning names to individual monomers can be done using the `assign_types` function in the `Molecule` class. The important input parameter is defining a sequence. In the example below, lets assume that each molecule containing 20 monomers followed a `para-meta` sequence defined here as `\"PM\"`. "
   ]
  },
  {
   "cell_type": "code",
   "execution_count": null,
   "id": "18e32389",
   "metadata": {
    "scrolled": true
   },
   "outputs": [],
   "source": [
    "sequence = \"PM\"\n",
    "for molecule in peek_system.molecules:\n",
    "    molecule.sequence = sequence\n",
    "    molecule.assign_types()\n",
    "\n",
    "for i in range(5):\n",
    "    print(peek_system.molecules[0].monomers[i].name)\n"
   ]
  },
  {
   "cell_type": "code",
   "execution_count": null,
   "id": "6fc1a8ac",
   "metadata": {},
   "outputs": [],
   "source": [
    "monomers = [i for i in peek_system.monomers()]\n",
    "print(len(monomers))"
   ]
  },
  {
   "cell_type": "markdown",
   "id": "95a15fe3",
   "metadata": {},
   "source": [
    "### Properties at each structure level"
   ]
  },
  {
   "cell_type": "code",
   "execution_count": null,
   "id": "e2997d5b",
   "metadata": {},
   "outputs": [],
   "source": [
    "print(molecule_1.center)\n",
    "print(monomer_1.center)\n",
    "print(molecule_1.end_to_end_distance())"
   ]
  },
  {
   "cell_type": "markdown",
   "id": "94595a70",
   "metadata": {},
   "source": [
    "## Generating Components\n",
    "\n",
    "There is a `Component` class that will allow you to group atoms together in structures that are smaller than the groupings in the `Monomer` class.\n",
    "\n",
    "Right now, what is required is a dictionary of `name: indices`.\n",
    "\n",
    "These indices are how the substructure exists within a single monomer, no the entire system.  For example, with PEEK which consists of 3 ring-like structures.  Two of them are identical, labeled `A` below, and the third is labeled `B`.  Since there are 2 `A` components, the indices passed into the dictionary are a list of 2 lists."
   ]
  },
  {
   "cell_type": "code",
   "execution_count": null,
   "id": "f4544f2e",
   "metadata": {},
   "outputs": [],
   "source": [
    "comp_mapping = {\n",
    "    \"A\": [[0, 1, 2, 3, 4, 20, 21], [5, 6, 7, 8, 9, 18, 19]],\n",
    "    \"B\": [10, 11, 12, 13, 14, 15, 16, 17]\n",
    "}\n",
    "\n",
    "for monomer in peek_system.monomers():\n",
    "    monomer.generate_components(index_mapping = comp_mapping)\n",
    "    \n",
    "print(len(molecule_1.components))\n",
    "print(len(molecule_1.monomers[0].components))"
   ]
  },
  {
   "cell_type": "markdown",
   "id": "d9cd0a07",
   "metadata": {},
   "source": [
    "#### Accessing each Component within the system."
   ]
  },
  {
   "cell_type": "code",
   "execution_count": null,
   "id": "4d7ca5d5",
   "metadata": {},
   "outputs": [],
   "source": [
    "all_components = [comp for comp in peek_system.components()]\n",
    "print(len(all_components))"
   ]
  },
  {
   "cell_type": "markdown",
   "id": "a1eee0c8",
   "metadata": {},
   "source": [
    "### Parents are defined at the molecular level, and inherited down to each level of a substructure"
   ]
  },
  {
   "cell_type": "code",
   "execution_count": null,
   "id": "5efc79a9",
   "metadata": {},
   "outputs": [],
   "source": [
    "print(all_components[0].parent)\n",
    "print(monomer_1.parent)\n",
    "print(molecule_1)"
   ]
  },
  {
   "cell_type": "markdown",
   "id": "f8d3b42a",
   "metadata": {},
   "source": [
    "## Generating Segments\n",
    "\n",
    "So far, we've seen that structure groupings are automatically created at the molecule and monomer level. Then, with some inputs, we could create component-level structure groupings (smaller than a monomer). Using the `generate_segments()` method available in the `Molecule` class will let us create structure groupings at a scale of multiple monomers, but still smaller than a molecule.\n",
    "\n",
    "Just like the `Components` class, this requires some input.  In this case, we have to define how many monomers are contained in each segment. For example, if we want segments to contain 4 monomers:"
   ]
  },
  {
   "cell_type": "code",
   "execution_count": null,
   "id": "ec39b440",
   "metadata": {},
   "outputs": [],
   "source": [
    "for mol in peek_system.molecules:\n",
    "    mol.generate_segments(monomers_per_segment = 4) # We're saying 4 monomers per segment"
   ]
  },
  {
   "cell_type": "markdown",
   "id": "310b9de1",
   "metadata": {},
   "source": [
    "# Bond length and angle distributions\n",
    "\n",
    "We can obtain information about the structure of the system at level more coarse than atomistic. For example, we might want to see the distribution of \"bond\" lengths and angles between monomers or segments.\n",
    "\n",
    "The `System` class contains a function for each type of distribution.  The data is returned, and with the `plot` parameter you can see a plot of the distribution."
   ]
  },
  {
   "cell_type": "code",
   "execution_count": null,
   "id": "9d50d092",
   "metadata": {},
   "outputs": [],
   "source": [
    "bond_dist = peek_system.bond_length_distribution(use_monomers=True, plot=True)"
   ]
  },
  {
   "cell_type": "code",
   "execution_count": null,
   "id": "2641c3aa",
   "metadata": {},
   "outputs": [],
   "source": [
    "ang_dist = peek_system.bond_angle_distribution(use_monomers=True, plot=True)"
   ]
  },
  {
   "cell_type": "markdown",
   "id": "ef39bc10",
   "metadata": {},
   "source": [
    "## Bond lengths and angles between segments\n",
    "\n",
    "The examples above used the bond distances and angles between monomers, but we can use the same methods on segments by changing the `user_monomers` and `use_segments` parameters in each function call."
   ]
  },
  {
   "cell_type": "code",
   "execution_count": null,
   "id": "887bb568",
   "metadata": {},
   "outputs": [],
   "source": [
    "seg_bond_dist = peek_system.bond_length_distribution(use_monomers=False, use_segments=True, plot=True)"
   ]
  },
  {
   "cell_type": "code",
   "execution_count": null,
   "id": "eff0fbc7",
   "metadata": {},
   "outputs": [],
   "source": [
    "seg_angle_dist = peek_system.bond_angle_distribution(use_monomers=False, use_segments=True, plot=True)"
   ]
  },
  {
   "cell_type": "markdown",
   "id": "d543c92f",
   "metadata": {},
   "source": [
    "## Bond lengths and angles between components"
   ]
  },
  {
   "cell_type": "code",
   "execution_count": null,
   "id": "2b5804d3",
   "metadata": {},
   "outputs": [],
   "source": [
    "comp_bond_dist = peek_system.bond_length_distribution(use_components=True, use_monomers=False, plot=True)"
   ]
  },
  {
   "cell_type": "code",
   "execution_count": null,
   "id": "42f667fa",
   "metadata": {},
   "outputs": [],
   "source": [
    "comp_ang_dist = peek_system.bond_angle_distribution(use_components=True, use_monomers=False, plot=True)"
   ]
  },
  {
   "cell_type": "markdown",
   "id": "79913b31",
   "metadata": {},
   "source": [
    "Both of the component bond length and angle distributions appear to be bimodal, meaning that each has 2 different characteristic values (distance and angle). We can try to look more closely at specific pairs for bond lengths and groups for bond angles by passing values to the `pair` and `group` parameters:"
   ]
  },
  {
   "cell_type": "code",
   "execution_count": null,
   "id": "05d5a70d",
   "metadata": {},
   "outputs": [],
   "source": [
    "comp_bond_dist = peek_system.bond_length_distribution(use_components=True,\n",
    "                                                      pair=[\"A\", \"A\"],\n",
    "                                                      plot=True)"
   ]
  },
  {
   "cell_type": "code",
   "execution_count": null,
   "id": "d8a60c8d",
   "metadata": {},
   "outputs": [],
   "source": [
    "comp_bond_dist = peek_system.bond_length_distribution(use_components=True,\n",
    "                                                      pair=[\"A\", \"B\"],\n",
    "                                                      plot=True)"
   ]
  },
  {
   "cell_type": "code",
   "execution_count": null,
   "id": "687db388",
   "metadata": {
    "scrolled": true
   },
   "outputs": [],
   "source": [
    "comp_angle_dist = peek_system.bond_angle_distribution(use_components=True,\n",
    "                                                      group=['B', 'A', 'A'],\n",
    "                                                      plot=True)"
   ]
  },
  {
   "cell_type": "markdown",
   "id": "c03b9809",
   "metadata": {},
   "source": [
    "# Saving a coarse-grained representation of the system to a snapshot"
   ]
  },
  {
   "cell_type": "code",
   "execution_count": null,
   "id": "f605c1a7",
   "metadata": {},
   "outputs": [],
   "source": [
    "snap = cmeutils.writers.write_snapshot(beads=[i for i in peek_system.monomers()])\n",
    "cg_monomers_gsd = gsd.hoomd.open(name=\"cg_monomers_peek.gsd\", mode=\"wb\")\n",
    "cg_monomers_gsd.append(snap)"
   ]
  },
  {
   "cell_type": "code",
   "execution_count": null,
   "id": "a80ab7de",
   "metadata": {},
   "outputs": [],
   "source": [
    "snap = cmeutils.writers.write_snapshot(beads=[i for i in peek_system.components()])\n",
    "cg_components_gsd = gsd.hoomd.open(name=\"cg_rings_peek.gsd\", mode=\"wb\")\n",
    "cg_components_gsd.append(snap)"
   ]
  },
  {
   "cell_type": "markdown",
   "id": "dd56ec62",
   "metadata": {},
   "source": [
    "# Coarse-graining with mBuild\n",
    "\n",
    "We can use the center of mass methods and Molecule and Monomer classes to generate a coarse-grained representation of the UA system:\n",
    "\n",
    "**NOTE:**\n",
    "This requires that mbuild and py3Dmol are installed\n",
    "\n",
    "`conda install -c conda-forge mbuild py3Dmol`"
   ]
  },
  {
   "cell_type": "code",
   "execution_count": null,
   "id": "8b28bdd4",
   "metadata": {},
   "outputs": [],
   "source": [
    "import mbuild as mb"
   ]
  },
  {
   "cell_type": "markdown",
   "id": "acf2c6cb",
   "metadata": {},
   "source": [
    "## Example: Using the Component() class to create a coarse-grained system"
   ]
  },
  {
   "cell_type": "code",
   "execution_count": null,
   "id": "b253f7a6",
   "metadata": {},
   "outputs": [],
   "source": [
    "import time\n",
    "\n",
    "start = time.time()\n",
    "cg_components = mb.Compound()\n",
    "molecules = []\n",
    "for mol in peek_system.molecules:\n",
    "    mol_comp = mb.Compound()\n",
    "    last_bead = None\n",
    "    for mon_idx, mon in enumerate(mol.monomers):\n",
    "        for comp_idx, comp in enumerate(mon.components):\n",
    "            pos = comp.unwrapped_center / 10\n",
    "            bead = mb.Compound(name=comp.name, pos=pos)\n",
    "            mol_comp.add(bead)\n",
    "            if mon_idx == 0 and comp_idx == 0:\n",
    "                pass\n",
    "            else:\n",
    "                mol_comp.add_bond((bead, last_bead))\n",
    "            last_bead = bead\n",
    "    cg_components.add(mol_comp)\n",
    "finish = time.time()\n",
    "#cg_components.save(\"components_cg.gsd\", overwrite=True)\n",
    "print(finish - start)\n",
    "\n",
    "cg_components.visualize(color_scheme = {\"A\": \"blue\", \"B\": \"orange\"}) "
   ]
  },
  {
   "cell_type": "markdown",
   "id": "b51b6274",
   "metadata": {},
   "source": [
    "## Example: Using the Monomer() class to create a coarse-grained system\n",
    "\n",
    "Using mBuild, and the tools described above, we can generate a coarse-grained representation of the system where 1 bead is equivalent to 1 monomer from the united-atom system."
   ]
  },
  {
   "cell_type": "code",
   "execution_count": null,
   "id": "64456bf0",
   "metadata": {},
   "outputs": [],
   "source": [
    "start = time.time()\n",
    "cg_monomers = mb.Compound()\n",
    "for mol_idx, molecule in enumerate(peek_system.molecules):\n",
    "    molecule_comp = mb.Compound(name=f\"mol{mol_idx}\")\n",
    "    last_bead = None\n",
    "    for mon_idx, monomer in enumerate(molecule.monomers):\n",
    "        pos = monomer.unwrapped_center / 10\n",
    "        bead = mb.Compound(name=monomer.name, pos=pos)\n",
    "        molecule_comp.add(bead)\n",
    "        if 0 < mon_idx < len(molecule.monomers):\n",
    "            molecule_comp.add_bond((bead, last_bead))\n",
    "        last_bead = bead\n",
    "    cg_monomers.add(molecule_comp)\n",
    "    \n",
    "cg_monomers.save(\"monomers_cg.gsd\", overwrite=True)\n",
    "finish = time.time()\n",
    "print(finish - start)\n",
    "\n",
    "cg_monomers.visualize(color_scheme = {\"P\": \"blue\", \"M\": \"orange\"}) "
   ]
  },
  {
   "cell_type": "markdown",
   "id": "0e6e7776",
   "metadata": {},
   "source": [
    "## Example: Using the Segment() class to create a coarse-grained system:\n",
    "\n",
    "When creating a system object, the Molecule objects are automatically generated, and each time a `Molecule` class is instantiated, the `Monomer` objects are automatically created.\n",
    "\n",
    "In order to create `Segment` instances, we will have to call the `generate_segments` method for each `Molecule` object.  The important parameter of input is defining how many monomers 1 segment consists of."
   ]
  },
  {
   "cell_type": "code",
   "execution_count": null,
   "id": "4d6d371b",
   "metadata": {},
   "outputs": [],
   "source": [
    "start = time.time()\n",
    "cg_segments = mb.Compound()\n",
    "\n",
    "for mol_idx, molecule in enumerate(peek_system.molecules):\n",
    "    molecule_comp = mb.Compound(name=f\"mol{mol_idx}\")\n",
    "    last_bead = None\n",
    "    for seg_idx, segment in enumerate(molecule.segments):\n",
    "        bead_name = f\"mol{mol_idx}_mon{seg_idx}\"\n",
    "        #pos = monomer.unwrapped_center * 3.3996695084235347\n",
    "        pos = segment.unwrapped_center / 10\n",
    "        bead = mb.Compound(name=bead_name, pos=pos)\n",
    "        molecule_comp.add(bead)\n",
    "        if 0 < seg_idx < len(molecule.monomers):\n",
    "            molecule_comp.add_bond((bead, last_bead))\n",
    "        last_bead = bead\n",
    "    cg_segments.add(molecule_comp)\n",
    "\n",
    "finish = time.time()\n",
    "print(finish - start)\n",
    "\n",
    "cg_segments.visualize()"
   ]
  },
  {
   "cell_type": "code",
   "execution_count": null,
   "id": "114416b7",
   "metadata": {},
   "outputs": [],
   "source": []
  }
 ],
 "metadata": {
  "kernelspec": {
   "display_name": "Python 3",
   "language": "python",
   "name": "python3"
  },
  "language_info": {
   "codemirror_mode": {
    "name": "ipython",
    "version": 3
   },
   "file_extension": ".py",
   "mimetype": "text/x-python",
   "name": "python",
   "nbconvert_exporter": "python",
   "pygments_lexer": "ipython3",
   "version": "3.7.10"
  }
 },
 "nbformat": 4,
 "nbformat_minor": 5
}
