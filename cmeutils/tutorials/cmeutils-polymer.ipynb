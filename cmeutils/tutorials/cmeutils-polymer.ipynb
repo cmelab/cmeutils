{
 "cells": [
  {
   "cell_type": "code",
   "execution_count": 2,
   "id": "6834e21c",
   "metadata": {},
   "outputs": [],
   "source": [
    "import cmeutils\n",
    "import cmeutils.polymers as polymer\n",
    "from cmeutils.gsd_utils import snap_molecule_cluster\n",
    "import warnings\n",
    "warnings.filterwarnings(\"ignore\")\n",
    "import time\n",
    "import matplotlib.pyplot as plt\n",
    "import numpy as np\n",
    "from scipy.optimize import curve_fit\n",
    "import mbuild as mb"
   ]
  },
  {
   "cell_type": "markdown",
   "id": "49d2de37",
   "metadata": {},
   "source": [
    "## Example\n",
    "\n",
    "This example is for a .gsd file that contains 10 molecuels, each one with 5 monomers\n",
    "The molecules are united-atom PEEK, so each monomer contains 22 atoms"
   ]
  },
  {
   "cell_type": "code",
   "execution_count": 4,
   "id": "297b1d63",
   "metadata": {},
   "outputs": [
    {
     "name": "stderr",
     "output_type": "stream",
     "text": [
      "/home/chris/miniconda3/envs/cmeutils/lib/python3.7/site-packages/ipykernel/ipkernel.py:287: DeprecationWarning: `should_run_async` will not call `transform_cell` automatically in the future. Please pass the result to `transformed_cell` argument and any exception that happen during thetransform in `preprocessing_exc_tuple` in IPython 7.17 and above.\n",
      "  and should_run_async(code)\n"
     ]
    }
   ],
   "source": [
    "gsdfile = \"100-20mers.gsd\"\n",
    "peek_system = polymer.System(gsd_file=gsdfile, gsd_frame=0, atoms_per_monomer=22)"
   ]
  },
  {
   "cell_type": "markdown",
   "id": "50b68776",
   "metadata": {},
   "source": [
    "# Hierarchial structures\n",
    "\n",
    "\n"
   ]
  },
  {
   "cell_type": "code",
   "execution_count": 7,
   "id": "05a73b60",
   "metadata": {},
   "outputs": [
    {
     "name": "stdout",
     "output_type": "stream",
     "text": [
      "100 Molecules\n",
      "2000 Monomers\n",
      "44000 Atoms\n",
      "\n",
      "100\n",
      "[<cmeutils.polymers.Molecule object at 0x7f7e8b2add90>, <cmeutils.polymers.Molecule object at 0x7f7e8b2b5290>, <cmeutils.polymers.Molecule object at 0x7f7e8aed5890>, <cmeutils.polymers.Molecule object at 0x7f7e8aedce50>, <cmeutils.polymers.Molecule object at 0x7f7e8aee2350>]\n"
     ]
    },
    {
     "name": "stderr",
     "output_type": "stream",
     "text": [
      "/home/chris/miniconda3/envs/cmeutils/lib/python3.7/site-packages/ipykernel/ipkernel.py:287: DeprecationWarning: `should_run_async` will not call `transform_cell` automatically in the future. Please pass the result to `transformed_cell` argument and any exception that happen during thetransform in `preprocessing_exc_tuple` in IPython 7.17 and above.\n",
      "  and should_run_async(code)\n"
     ]
    }
   ],
   "source": [
    "print(f\"{peek_system.n_molecules} Molecules\")\n",
    "print(f\"{peek_system.n_monomers} Monomers\")\n",
    "print(f\"{peek_system.n_atoms} Atoms\")\n",
    "print()\n",
    "print(len((peek_system.molecules)))\n",
    "print(peek_system.molecules[0:5])"
   ]
  },
  {
   "cell_type": "markdown",
   "id": "1130f4dd",
   "metadata": {},
   "source": [
    "### Looking at just 1 of the molecule objects from peek_system.molecules"
   ]
  },
  {
   "cell_type": "code",
   "execution_count": 9,
   "id": "8c434494",
   "metadata": {},
   "outputs": [
    {
     "name": "stdout",
     "output_type": "stream",
     "text": [
      "20 Monomers\n",
      "440 Atoms\n",
      "\n",
      "20\n",
      "[<cmeutils.polymers.Monomer object at 0x7f7e8aedce90>, <cmeutils.polymers.Monomer object at 0x7f7e8aedc3d0>, <cmeutils.polymers.Monomer object at 0x7f7e8aedce10>, <cmeutils.polymers.Monomer object at 0x7f7e8aedced0>, <cmeutils.polymers.Monomer object at 0x7f7e8aedcf10>]\n"
     ]
    },
    {
     "name": "stderr",
     "output_type": "stream",
     "text": [
      "/home/chris/miniconda3/envs/cmeutils/lib/python3.7/site-packages/ipykernel/ipkernel.py:287: DeprecationWarning: `should_run_async` will not call `transform_cell` automatically in the future. Please pass the result to `transformed_cell` argument and any exception that happen during thetransform in `preprocessing_exc_tuple` in IPython 7.17 and above.\n",
      "  and should_run_async(code)\n"
     ]
    }
   ],
   "source": [
    "molecule_1 = peek_system.molecules[0]\n",
    "print(f\"{molecule_1.n_monomers} Monomers\")\n",
    "print(f\"{molecule_1.n_atoms} Atoms\")\n",
    "print()\n",
    "print(len(molecule_1.monomers))\n",
    "print(molecule_1.monomers[0:5])"
   ]
  },
  {
   "cell_type": "markdown",
   "id": "708d286a",
   "metadata": {},
   "source": [
    "### Looking at just 1 of the monomer objects from molecule_1"
   ]
  },
  {
   "cell_type": "code",
   "execution_count": 10,
   "id": "9fe9d728",
   "metadata": {},
   "outputs": [
    {
     "name": "stdout",
     "output_type": "stream",
     "text": [
      "22 Atoms\n"
     ]
    },
    {
     "name": "stderr",
     "output_type": "stream",
     "text": [
      "/home/chris/miniconda3/envs/cmeutils/lib/python3.7/site-packages/ipykernel/ipkernel.py:287: DeprecationWarning: `should_run_async` will not call `transform_cell` automatically in the future. Please pass the result to `transformed_cell` argument and any exception that happen during thetransform in `preprocessing_exc_tuple` in IPython 7.17 and above.\n",
      "  and should_run_async(code)\n"
     ]
    }
   ],
   "source": [
    "monomer_1 = molecule_1.monomers[0]\n",
    "print(f\"{monomer_1.n_atoms} Atoms\")"
   ]
  },
  {
   "cell_type": "markdown",
   "id": "95a15fe3",
   "metadata": {},
   "source": [
    "### Properties at each structure level"
   ]
  },
  {
   "cell_type": "code",
   "execution_count": 11,
   "id": "e2997d5b",
   "metadata": {},
   "outputs": [
    {
     "name": "stdout",
     "output_type": "stream",
     "text": [
      "[  8.22849751  -6.37031364 -12.47945309]\n",
      "[  9.28754139  -3.69121075 -10.02487183]\n",
      "37.08326032846742\n"
     ]
    },
    {
     "name": "stderr",
     "output_type": "stream",
     "text": [
      "/home/chris/miniconda3/envs/cmeutils/lib/python3.7/site-packages/ipykernel/ipkernel.py:287: DeprecationWarning: `should_run_async` will not call `transform_cell` automatically in the future. Please pass the result to `transformed_cell` argument and any exception that happen during thetransform in `preprocessing_exc_tuple` in IPython 7.17 and above.\n",
      "  and should_run_async(code)\n"
     ]
    }
   ],
   "source": [
    "print(molecule_1.center)\n",
    "print(monomer_1.center)\n",
    "print(molecule_1.end_to_end_distance())"
   ]
  },
  {
   "cell_type": "markdown",
   "id": "94595a70",
   "metadata": {},
   "source": [
    "## Generating Components\n",
    "\n",
    "There is a `Component` class that will allow you to group atoms together in structures that are smaller than the groupings in the `Monomer` class.\n",
    "\n",
    "Right now, what is required is a dictionary of `name: indices`.\n",
    "\n",
    "These indices are how the substructure exists within a single monomer, no the entire system.  For example, with PEEK which consists of 3 ring-like structures:"
   ]
  },
  {
   "cell_type": "code",
   "execution_count": 12,
   "id": "f4544f2e",
   "metadata": {},
   "outputs": [
    {
     "name": "stderr",
     "output_type": "stream",
     "text": [
      "/home/chris/miniconda3/envs/cmeutils/lib/python3.7/site-packages/ipykernel/ipkernel.py:287: DeprecationWarning: `should_run_async` will not call `transform_cell` automatically in the future. Please pass the result to `transformed_cell` argument and any exception that happen during thetransform in `preprocessing_exc_tuple` in IPython 7.17 and above.\n",
      "  and should_run_async(code)\n"
     ]
    }
   ],
   "source": [
    "comp_mapping = {\n",
    "    \"ring_1\": [0, 1, 2, 3, 4, 20, 21],\n",
    "    \"ring_2\": [5, 6, 7, 8, 9, 18, 19],\n",
    "    \"ring_3\": [10, 11, 12, 13, 14, 15, 16, 17]\n",
    "}\n",
    "\n",
    "for monomer in peek_system.monomers():\n",
    "    monomer.generate_components(index_mapping = comp_mapping)"
   ]
  },
  {
   "cell_type": "code",
   "execution_count": null,
   "id": "17410ff7",
   "metadata": {},
   "outputs": [],
   "source": []
  },
  {
   "cell_type": "markdown",
   "id": "310b9de1",
   "metadata": {},
   "source": [
    "# Bond length and angle distributions\n",
    "\n",
    "We can obtain information about the structure of the system at level more coarse than atomistic. For example, we might want to see the distribution of \"bond\" lengths and angles between monomers or segments.\n",
    "\n",
    "The `System` class contains a function for each type of distribution.  The data is returned, and with the `plot` parameter you can see a plot of the distribution."
   ]
  },
  {
   "cell_type": "code",
   "execution_count": 13,
   "id": "9d50d092",
   "metadata": {},
   "outputs": [
    {
     "name": "stderr",
     "output_type": "stream",
     "text": [
      "/home/chris/miniconda3/envs/cmeutils/lib/python3.7/site-packages/ipykernel/ipkernel.py:287: DeprecationWarning: `should_run_async` will not call `transform_cell` automatically in the future. Please pass the result to `transformed_cell` argument and any exception that happen during thetransform in `preprocessing_exc_tuple` in IPython 7.17 and above.\n",
      "  and should_run_async(code)\n"
     ]
    },
    {
     "data": {
      "image/png": "[encoded data removed]",
      "text/plain": [
       "<Figure size 432x288 with 1 Axes>"
      ]
     },
     "metadata": {
      "needs_background": "light"
     },
     "output_type": "display_data"
    }
   ],
   "source": [
    "bond_dist = peek_system.bond_length_distribution(nbins=20, plot=True)"
   ]
  },
  {
   "cell_type": "code",
   "execution_count": 14,
   "id": "2641c3aa",
   "metadata": {},
   "outputs": [
    {
     "name": "stderr",
     "output_type": "stream",
     "text": [
      "/home/chris/miniconda3/envs/cmeutils/lib/python3.7/site-packages/ipykernel/ipkernel.py:287: DeprecationWarning: `should_run_async` will not call `transform_cell` automatically in the future. Please pass the result to `transformed_cell` argument and any exception that happen during thetransform in `preprocessing_exc_tuple` in IPython 7.17 and above.\n",
      "  and should_run_async(code)\n"
     ]
    },
    {
     "data": {
      "image/png": "[encoded data removed]",
      "text/plain": [
       "<Figure size 432x288 with 1 Axes>"
      ]
     },
     "metadata": {
      "needs_background": "light"
     },
     "output_type": "display_data"
    }
   ],
   "source": [
    "ang_dist = peek_system.bond_angle_distribution(nbins=20, plot=True)"
   ]
  },
  {
   "cell_type": "markdown",
   "id": "dd56ec62",
   "metadata": {},
   "source": [
    "## Coarse-graining\n",
    "\n",
    "We can use the center of mass methods and Molecule and Monomer classes to generate a coarse-grained representation of the UA system:\n",
    "\n",
    "**NOTE:**\n",
    "This requires that mbuild and py3Dmol are installed\n",
    "\n",
    "`conda install -c conda-forge mbuild py3Dmol`"
   ]
  },
  {
   "cell_type": "code",
   "execution_count": null,
   "id": "8b28bdd4",
   "metadata": {},
   "outputs": [],
   "source": [
    "import mbuild as mb"
   ]
  },
  {
   "cell_type": "markdown",
   "id": "acf2c6cb",
   "metadata": {},
   "source": [
    "## Example: Using the Component() class to create a coarse-grained system"
   ]
  },
  {
   "cell_type": "code",
   "execution_count": null,
   "id": "b253f7a6",
   "metadata": {},
   "outputs": [],
   "source": [
    "cg_components = mb.Compound()\n",
    "molecules = []\n",
    "for mol in peek_system.molecules:\n",
    "    mol_comp = mb.Compound()\n",
    "    last_bead = None\n",
    "    for mon_idx, mon in enumerate(mol.monomers):\n",
    "        for comp_idx, comp in enumerate(mon.components.items()):\n",
    "            name = comp[0]\n",
    "            pos = comp[1].center\n",
    "            bead = mb.Compound(name=name, pos=pos)\n",
    "            mol_comp.add(bead)\n",
    "            if mon_idx == 0 and comp_idx == 0:\n",
    "                pass\n",
    "            else:\n",
    "                mol_comp.add_bond((bead, last_bead))\n",
    "            last_bead = bead\n",
    "    cg_components.add(mol_comp)\n",
    "                             \n",
    "cg_components.visualize() "
   ]
  },
  {
   "cell_type": "markdown",
   "id": "b51b6274",
   "metadata": {},
   "source": [
    "## Example: Using the Monomer() class to create a coarse-grained system\n",
    "\n",
    "Using mBuild, and the tools described above, we can generate a coarse-grained representation of the system where 1 bead is equivalent to 1 monomer from the united-atom system."
   ]
  },
  {
   "cell_type": "code",
   "execution_count": null,
   "id": "64456bf0",
   "metadata": {},
   "outputs": [],
   "source": [
    "cg_monomers = mb.Compound()\n",
    "for mol_idx, molecule in enumerate(peek_system.molecules):\n",
    "    molecule_comp = mb.Compound(name=f\"mol{mol_idx}\")\n",
    "    last_bead = None\n",
    "    for mon_idx, monomer in enumerate(molecule.monomers):\n",
    "        bead_name = f\"mol{mol_idx}_mon{mon_idx}\"\n",
    "        #pos = monomer.unwrapped_center * 3.3996695084235347\n",
    "        pos = monomer.center\n",
    "        bead = mb.Compound(name=bead_name, pos=pos)\n",
    "        molecule_comp.add(bead)\n",
    "        if 0 < mon_idx < len(molecule.monomers):\n",
    "            molecule_comp.add_bond((bead, last_bead))\n",
    "        last_bead = bead\n",
    "    cg_monomers.add(molecule_comp)\n",
    "    \n",
    "cg_monomers.visualize()"
   ]
  },
  {
   "cell_type": "markdown",
   "id": "0e6e7776",
   "metadata": {},
   "source": [
    "## Example: Using the Segment() class to create a coarse-grained system:\n",
    "\n",
    "When creating a system object, the Molecule objects are automatically generated, and each time a `Molecule` class is instantiated, the `Monomer` objects are automatically created.\n",
    "\n",
    "In order to create `Segment` instances, we will have to call the `generate_segments` method for each `Molecule` object.  The important parameter of input is defining how many monomers 1 segment consists of."
   ]
  },
  {
   "cell_type": "code",
   "execution_count": null,
   "id": "cd549164",
   "metadata": {},
   "outputs": [],
   "source": [
    "for mol in peek_system.molecules:\n",
    "    mol.generate_segments(5) # We're saying 5 monomers per segment"
   ]
  },
  {
   "cell_type": "code",
   "execution_count": null,
   "id": "4d6d371b",
   "metadata": {},
   "outputs": [],
   "source": [
    "cg_segments = mb.Compound()\n",
    "for mol_idx, molecule in enumerate(peek_system.molecules):\n",
    "    molecule_comp = mb.Compound(name=f\"mol{mol_idx}\")\n",
    "    last_bead = None\n",
    "    for seg_idx, segment in enumerate(molecule.segments):\n",
    "        bead_name = f\"mol{mol_idx}_mon{seg_idx}\"\n",
    "        #pos = monomer.unwrapped_center * 3.3996695084235347\n",
    "        pos = segment.center / 10\n",
    "        bead = mb.Compound(name=bead_name, pos=pos)\n",
    "        molecule_comp.add(bead)\n",
    "        if 0 < seg_idx < len(molecule.monomers):\n",
    "            molecule_comp.add_bond((bead, last_bead))\n",
    "        last_bead = bead\n",
    "    cg_segments.add(molecule_comp)\n",
    "    \n",
    "cg_segments.visualize()"
   ]
  },
  {
   "cell_type": "code",
   "execution_count": null,
   "id": "25cd09f0",
   "metadata": {},
   "outputs": [],
   "source": []
  }
 ],
 "metadata": {
  "kernelspec": {
   "display_name": "Python 3",
   "language": "python",
   "name": "python3"
  },
  "language_info": {
   "codemirror_mode": {
    "name": "ipython",
    "version": 3
   },
   "file_extension": ".py",
   "mimetype": "text/x-python",
   "name": "python",
   "nbconvert_exporter": "python",
   "pygments_lexer": "ipython3",
   "version": "3.7.10"
  }
 },
 "nbformat": 4,
 "nbformat_minor": 5
}
