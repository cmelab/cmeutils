{
 "cells": [
  {
   "cell_type": "code",
   "execution_count": 6,
   "id": "6834e21c",
   "metadata": {},
   "outputs": [
    {
     "name": "stderr",
     "output_type": "stream",
     "text": [
      "/home/chris/miniconda3/envs/cmeutils/lib/python3.7/site-packages/ipykernel/ipkernel.py:287: DeprecationWarning: `should_run_async` will not call `transform_cell` automatically in the future. Please pass the result to `transformed_cell` argument and any exception that happen during thetransform in `preprocessing_exc_tuple` in IPython 7.17 and above.\n",
      "  and should_run_async(code)\n"
     ]
    }
   ],
   "source": [
    "import cmeutils\n",
    "import cmeutils.polymers as polymer\n",
    "from cmeutils.gsd_utils import snap_molecule_cluster\n",
    "import warnings\n",
    "warnings.filterwarnings(\"ignore\")\n",
    "import time\n",
    "import matplotlib.pyplot as plt\n",
    "import numpy as np\n",
    "from scipy.optimize import curve_fit\n",
    "import mbuild as mb"
   ]
  },
  {
   "cell_type": "code",
   "execution_count": 13,
   "id": "5ba51195",
   "metadata": {},
   "outputs": [],
   "source": [
    "comp_mapping = {\n",
    "    \"ring_1\": [0, 1, 2, 3, 4, 20, 21],\n",
    "    \"ring_2\": [5, 6, 7, 8, 9, 18, 19],\n",
    "    \"ring_3\": [10, 11, 12, 13, 14, 15, 16, 17]\n",
    "}"
   ]
  },
  {
   "cell_type": "markdown",
   "id": "49d2de37",
   "metadata": {},
   "source": [
    "## Example\n",
    "\n",
    "This example is for a .gsd file that contains 10 molecuels, each one with 5 monomers\n",
    "The molecules are united-atom PEEK, so each monomer contains 22 atoms"
   ]
  },
  {
   "cell_type": "code",
   "execution_count": 14,
   "id": "297b1d63",
   "metadata": {},
   "outputs": [],
   "source": [
    "gsdfile = \"10_5mers.gsd\"\n",
    "peek_system = polymer.System(gsd_file=gsdfile, atoms_per_monomer=22)"
   ]
  },
  {
   "cell_type": "code",
   "execution_count": 15,
   "id": "49f163b1",
   "metadata": {},
   "outputs": [],
   "source": [
    "for monomer in peek_system.monomers():\n",
    "    monomer.generate_components(index_mapping = comp_mapping)"
   ]
  },
  {
   "cell_type": "code",
   "execution_count": 16,
   "id": "aad7e21b",
   "metadata": {},
   "outputs": [],
   "source": [
    "monomer_1 = peek_system.molecules[0].monomers[0]"
   ]
  },
  {
   "cell_type": "code",
   "execution_count": 21,
   "id": "462e9dbc",
   "metadata": {},
   "outputs": [
    {
     "name": "stdout",
     "output_type": "stream",
     "text": [
      "ring_1\n",
      "ring_2\n",
      "ring_3\n"
     ]
    }
   ],
   "source": [
    "for c in monomer_1.components:\n",
    "    "
   ]
  },
  {
   "cell_type": "code",
   "execution_count": null,
   "id": "ec0893aa",
   "metadata": {},
   "outputs": [],
   "source": []
  },
  {
   "cell_type": "markdown",
   "id": "50b68776",
   "metadata": {},
   "source": [
    "# Hierarchial structures\n",
    "\n",
    "\n"
   ]
  },
  {
   "cell_type": "code",
   "execution_count": null,
   "id": "05a73b60",
   "metadata": {},
   "outputs": [],
   "source": [
    "print(f\"{peek_system.n_molecules} Molecules\")\n",
    "print(f\"{peek_system.n_monomers} Monomers\")\n",
    "print(f\"{peek_system.n_atoms} Atoms\")\n",
    "print()\n",
    "print(len((peek_system.molecules)))\n",
    "print(peek_system.molecules)"
   ]
  },
  {
   "cell_type": "markdown",
   "id": "1130f4dd",
   "metadata": {},
   "source": [
    "### Looking at just 1 of the molecule objects from peek_system.molecules"
   ]
  },
  {
   "cell_type": "code",
   "execution_count": null,
   "id": "8c434494",
   "metadata": {},
   "outputs": [],
   "source": [
    "molecule_1 = peek_system.molecules[0]\n",
    "print(f\"{molecule_1.n_monomers} Monomers\")\n",
    "print(f\"{molecule_1.n_atoms} Atoms\")\n",
    "print()\n",
    "print(len(molecule_1.monomers))\n",
    "print(molecule_1.monomers)"
   ]
  },
  {
   "cell_type": "markdown",
   "id": "708d286a",
   "metadata": {},
   "source": [
    "### Looking at just 1 of the monomer objects from molecule_1"
   ]
  },
  {
   "cell_type": "code",
   "execution_count": null,
   "id": "9fe9d728",
   "metadata": {},
   "outputs": [],
   "source": [
    "monomer_1 = molecule_1.monomers[0]\n",
    "print(f\"{monomer_1.n_atoms} Atoms\")"
   ]
  },
  {
   "cell_type": "markdown",
   "id": "95a15fe3",
   "metadata": {},
   "source": [
    "### Properties at each structure level"
   ]
  },
  {
   "cell_type": "code",
   "execution_count": null,
   "id": "e2997d5b",
   "metadata": {},
   "outputs": [],
   "source": [
    "print(molecule_1.center)\n",
    "print(monomer_1.center)\n",
    "\n",
    "print(molecule_1.end_to_end_distance())"
   ]
  },
  {
   "cell_type": "code",
   "execution_count": null,
   "id": "4883364b",
   "metadata": {},
   "outputs": [],
   "source": []
  },
  {
   "cell_type": "code",
   "execution_count": null,
   "id": "cb3476c0",
   "metadata": {},
   "outputs": [],
   "source": []
  },
  {
   "cell_type": "code",
   "execution_count": null,
   "id": "f4544f2e",
   "metadata": {},
   "outputs": [],
   "source": []
  },
  {
   "cell_type": "markdown",
   "id": "310b9de1",
   "metadata": {},
   "source": [
    "# Bond length and angle distributions\n",
    "\n",
    "We can obtain information about the structure of the system at level more coarse than atomistic. For example, we might want to see the distribution of \"bond\" lengths and angles between monomers or segments.\n",
    "\n",
    "The `System` class contains a function for each type of distribution.  The data is returned, and with the `plot` parameter you can see a plot of the distribution."
   ]
  },
  {
   "cell_type": "code",
   "execution_count": null,
   "id": "9d50d092",
   "metadata": {},
   "outputs": [],
   "source": [
    "bond_dist = peek_system.bond_length_distribution(nbins=20, plot=True)"
   ]
  },
  {
   "cell_type": "code",
   "execution_count": null,
   "id": "2641c3aa",
   "metadata": {},
   "outputs": [],
   "source": [
    "ang_dist = peek_system.bond_angle_distribution(nbins=20, plot=True)"
   ]
  },
  {
   "cell_type": "code",
   "execution_count": null,
   "id": "886703f9",
   "metadata": {},
   "outputs": [],
   "source": []
  },
  {
   "cell_type": "code",
   "execution_count": null,
   "id": "4bc226ba",
   "metadata": {},
   "outputs": [],
   "source": [
    "for mon in mol_1.monomers:\n",
    "    print(mon.center_of_mass)"
   ]
  },
  {
   "cell_type": "markdown",
   "id": "dd56ec62",
   "metadata": {},
   "source": [
    "## Coarse-graining\n",
    "\n",
    "We can use the center of mass methods and Molecule and Monomer classes to generate a coarse-grained representation of the UA system:\n",
    "\n",
    "**NOTE:**\n",
    "This requires that mbuild and py3Dmol are installed\n",
    "\n",
    "`conda install -c conda-forge mbuild py3Dmol`"
   ]
  },
  {
   "cell_type": "code",
   "execution_count": null,
   "id": "8b28bdd4",
   "metadata": {},
   "outputs": [],
   "source": [
    "import mbuild as mb"
   ]
  },
  {
   "cell_type": "markdown",
   "id": "b51b6274",
   "metadata": {},
   "source": [
    "## Example: Using the Monomer() class to create a coarse-grained system\n",
    "\n",
    "Using mBuild, and the tools described above, we can generate a coarse-grained representation of the system where 1 bead is equivalent to 1 monomer from the united-atom system."
   ]
  },
  {
   "cell_type": "code",
   "execution_count": null,
   "id": "64456bf0",
   "metadata": {},
   "outputs": [],
   "source": [
    "cg_system = mb.Compound()\n",
    "for mol_idx, molecule in enumerate(peek_system.molecules):\n",
    "    molecule_comp = mb.Compound(name=f\"mol{mol_idx}\")\n",
    "    last_bead = None\n",
    "    for mon_idx, monomer in enumerate(molecule.monomers):\n",
    "        bead_name = f\"mol{mol_idx}_mon{mon_idx}\"\n",
    "        #pos = monomer.unwrapped_center * 3.3996695084235347\n",
    "        pos = monomer.center / 10\n",
    "        bead = mb.Compound(name=bead_name, pos=pos)\n",
    "        molecule_comp.add(bead)\n",
    "        if 0 < mon_idx < len(molecule.monomers):\n",
    "            molecule_comp.add_bond((bead, last_bead))\n",
    "        last_bead = bead\n",
    "    cg_system.add(molecule_comp)\n",
    "    \n",
    "cg_system.visualize()"
   ]
  },
  {
   "cell_type": "markdown",
   "id": "0e6e7776",
   "metadata": {},
   "source": [
    "## Example: Using the Segment() class to create a coarse-grained system:\n",
    "\n",
    "In the cells above, we generated segments where 1 molecule "
   ]
  },
  {
   "cell_type": "code",
   "execution_count": null,
   "id": "cd549164",
   "metadata": {},
   "outputs": [],
   "source": [
    "for mol in peek_system.molecules:\n",
    "    mol.generate_segments(5) # We're saying 5 monomers per segment"
   ]
  },
  {
   "cell_type": "code",
   "execution_count": null,
   "id": "4d6d371b",
   "metadata": {},
   "outputs": [],
   "source": [
    "cg_seg_system = mb.Compound()\n",
    "for mol_idx, molecule in enumerate(peek_system.molecules):\n",
    "    molecule_comp = mb.Compound(name=f\"mol{mol_idx}\")\n",
    "    last_bead = None\n",
    "    for seg_idx, segment in enumerate(molecule.segments):\n",
    "        bead_name = f\"mol{mol_idx}_mon{seg_idx}\"\n",
    "        #pos = monomer.unwrapped_center * 3.3996695084235347\n",
    "        pos = segment.center / 10\n",
    "        bead = mb.Compound(name=bead_name, pos=pos)\n",
    "        molecule_comp.add(bead)\n",
    "        if 0 < seg_idx < len(molecule.monomers):\n",
    "            molecule_comp.add_bond((bead, last_bead))\n",
    "        last_bead = bead\n",
    "    cg_seg_system.add(molecule_comp)\n",
    "    \n",
    "cg_seg_system.visualize()"
   ]
  },
  {
   "cell_type": "code",
   "execution_count": null,
   "id": "3b56778f",
   "metadata": {},
   "outputs": [],
   "source": [
    "ua_mol = mb.load(\"/home/chris/single_20mer_cpk.mol2\")"
   ]
  },
  {
   "cell_type": "code",
   "execution_count": null,
   "id": "eb5bd0ea",
   "metadata": {},
   "outputs": [],
   "source": [
    "compare = mb.Compound(subcompounds = [ua_mol, cg_system, cg_seg_system])"
   ]
  },
  {
   "cell_type": "code",
   "execution_count": null,
   "id": "fcd00e3e",
   "metadata": {},
   "outputs": [],
   "source": [
    "compare.save(\"compare_2.mol2\")"
   ]
  },
  {
   "cell_type": "code",
   "execution_count": null,
   "id": "01edf044",
   "metadata": {},
   "outputs": [],
   "source": []
  }
 ],
 "metadata": {
  "kernelspec": {
   "display_name": "Python 3",
   "language": "python",
   "name": "python3"
  },
  "language_info": {
   "codemirror_mode": {
    "name": "ipython",
    "version": 3
   },
   "file_extension": ".py",
   "mimetype": "text/x-python",
   "name": "python",
   "nbconvert_exporter": "python",
   "pygments_lexer": "ipython3",
   "version": "3.7.10"
  }
 },
 "nbformat": 4,
 "nbformat_minor": 5
}
